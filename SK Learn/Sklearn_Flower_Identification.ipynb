{
  "nbformat": 4,
  "nbformat_minor": 0,
  "metadata": {
    "colab": {
      "name": "Sklearn_Flower_Identification.ipynb",
      "provenance": []
    },
    "kernelspec": {
      "name": "python3",
      "display_name": "Python 3"
    },
    "language_info": {
      "name": "python"
    }
  },
  "cells": [
    {
      "cell_type": "markdown",
      "source": [
        "##**Imports**"
      ],
      "metadata": {
        "id": "2QeYe3p_54jm"
      }
    },
    {
      "cell_type": "code",
      "execution_count": 1,
      "metadata": {
        "id": "I_oRir30p1Xe"
      },
      "outputs": [],
      "source": [
        "import pandas as pd\n",
        "import numpy as np"
      ]
    },
    {
      "cell_type": "code",
      "source": [
        "import os\n"
      ],
      "metadata": {
        "id": "Q_2AKn43qJUl"
      },
      "execution_count": 2,
      "outputs": []
    },
    {
      "cell_type": "markdown",
      "source": [
        "##**DataSet**"
      ],
      "metadata": {
        "id": "JpcrE7ez5yHc"
      }
    },
    {
      "cell_type": "code",
      "source": [
        "dataset = pd.read_csv('iris.csv') # reading the data and assigning to the dataset"
      ],
      "metadata": {
        "id": "wRGqE6MEqQb5"
      },
      "execution_count": 3,
      "outputs": []
    },
    {
      "cell_type": "code",
      "source": [
        "dataset.head()"
      ],
      "metadata": {
        "colab": {
          "base_uri": "https://localhost:8080/",
          "height": 206
        },
        "id": "ZHnRjWifrY6L",
        "outputId": "747a8b5b-f982-492a-8c9f-887911af146a"
      },
      "execution_count": 4,
      "outputs": [
        {
          "output_type": "execute_result",
          "data": {
            "text/plain": [
              "   120    4  setosa  versicolor  virginica\n",
              "0  6.4  2.8     5.6         2.2          2\n",
              "1  5.0  2.3     3.3         1.0          1\n",
              "2  4.9  2.5     4.5         1.7          2\n",
              "3  4.9  3.1     1.5         0.1          0\n",
              "4  5.7  3.8     1.7         0.3          0"
            ],
            "text/html": [
              "\n",
              "  <div id=\"df-275f73dc-eac6-4622-9595-000deba3d473\">\n",
              "    <div class=\"colab-df-container\">\n",
              "      <div>\n",
              "<style scoped>\n",
              "    .dataframe tbody tr th:only-of-type {\n",
              "        vertical-align: middle;\n",
              "    }\n",
              "\n",
              "    .dataframe tbody tr th {\n",
              "        vertical-align: top;\n",
              "    }\n",
              "\n",
              "    .dataframe thead th {\n",
              "        text-align: right;\n",
              "    }\n",
              "</style>\n",
              "<table border=\"1\" class=\"dataframe\">\n",
              "  <thead>\n",
              "    <tr style=\"text-align: right;\">\n",
              "      <th></th>\n",
              "      <th>120</th>\n",
              "      <th>4</th>\n",
              "      <th>setosa</th>\n",
              "      <th>versicolor</th>\n",
              "      <th>virginica</th>\n",
              "    </tr>\n",
              "  </thead>\n",
              "  <tbody>\n",
              "    <tr>\n",
              "      <th>0</th>\n",
              "      <td>6.4</td>\n",
              "      <td>2.8</td>\n",
              "      <td>5.6</td>\n",
              "      <td>2.2</td>\n",
              "      <td>2</td>\n",
              "    </tr>\n",
              "    <tr>\n",
              "      <th>1</th>\n",
              "      <td>5.0</td>\n",
              "      <td>2.3</td>\n",
              "      <td>3.3</td>\n",
              "      <td>1.0</td>\n",
              "      <td>1</td>\n",
              "    </tr>\n",
              "    <tr>\n",
              "      <th>2</th>\n",
              "      <td>4.9</td>\n",
              "      <td>2.5</td>\n",
              "      <td>4.5</td>\n",
              "      <td>1.7</td>\n",
              "      <td>2</td>\n",
              "    </tr>\n",
              "    <tr>\n",
              "      <th>3</th>\n",
              "      <td>4.9</td>\n",
              "      <td>3.1</td>\n",
              "      <td>1.5</td>\n",
              "      <td>0.1</td>\n",
              "      <td>0</td>\n",
              "    </tr>\n",
              "    <tr>\n",
              "      <th>4</th>\n",
              "      <td>5.7</td>\n",
              "      <td>3.8</td>\n",
              "      <td>1.7</td>\n",
              "      <td>0.3</td>\n",
              "      <td>0</td>\n",
              "    </tr>\n",
              "  </tbody>\n",
              "</table>\n",
              "</div>\n",
              "      <button class=\"colab-df-convert\" onclick=\"convertToInteractive('df-275f73dc-eac6-4622-9595-000deba3d473')\"\n",
              "              title=\"Convert this dataframe to an interactive table.\"\n",
              "              style=\"display:none;\">\n",
              "        \n",
              "  <svg xmlns=\"http://www.w3.org/2000/svg\" height=\"24px\"viewBox=\"0 0 24 24\"\n",
              "       width=\"24px\">\n",
              "    <path d=\"M0 0h24v24H0V0z\" fill=\"none\"/>\n",
              "    <path d=\"M18.56 5.44l.94 2.06.94-2.06 2.06-.94-2.06-.94-.94-2.06-.94 2.06-2.06.94zm-11 1L8.5 8.5l.94-2.06 2.06-.94-2.06-.94L8.5 2.5l-.94 2.06-2.06.94zm10 10l.94 2.06.94-2.06 2.06-.94-2.06-.94-.94-2.06-.94 2.06-2.06.94z\"/><path d=\"M17.41 7.96l-1.37-1.37c-.4-.4-.92-.59-1.43-.59-.52 0-1.04.2-1.43.59L10.3 9.45l-7.72 7.72c-.78.78-.78 2.05 0 2.83L4 21.41c.39.39.9.59 1.41.59.51 0 1.02-.2 1.41-.59l7.78-7.78 2.81-2.81c.8-.78.8-2.07 0-2.86zM5.41 20L4 18.59l7.72-7.72 1.47 1.35L5.41 20z\"/>\n",
              "  </svg>\n",
              "      </button>\n",
              "      \n",
              "  <style>\n",
              "    .colab-df-container {\n",
              "      display:flex;\n",
              "      flex-wrap:wrap;\n",
              "      gap: 12px;\n",
              "    }\n",
              "\n",
              "    .colab-df-convert {\n",
              "      background-color: #E8F0FE;\n",
              "      border: none;\n",
              "      border-radius: 50%;\n",
              "      cursor: pointer;\n",
              "      display: none;\n",
              "      fill: #1967D2;\n",
              "      height: 32px;\n",
              "      padding: 0 0 0 0;\n",
              "      width: 32px;\n",
              "    }\n",
              "\n",
              "    .colab-df-convert:hover {\n",
              "      background-color: #E2EBFA;\n",
              "      box-shadow: 0px 1px 2px rgba(60, 64, 67, 0.3), 0px 1px 3px 1px rgba(60, 64, 67, 0.15);\n",
              "      fill: #174EA6;\n",
              "    }\n",
              "\n",
              "    [theme=dark] .colab-df-convert {\n",
              "      background-color: #3B4455;\n",
              "      fill: #D2E3FC;\n",
              "    }\n",
              "\n",
              "    [theme=dark] .colab-df-convert:hover {\n",
              "      background-color: #434B5C;\n",
              "      box-shadow: 0px 1px 3px 1px rgba(0, 0, 0, 0.15);\n",
              "      filter: drop-shadow(0px 1px 2px rgba(0, 0, 0, 0.3));\n",
              "      fill: #FFFFFF;\n",
              "    }\n",
              "  </style>\n",
              "\n",
              "      <script>\n",
              "        const buttonEl =\n",
              "          document.querySelector('#df-275f73dc-eac6-4622-9595-000deba3d473 button.colab-df-convert');\n",
              "        buttonEl.style.display =\n",
              "          google.colab.kernel.accessAllowed ? 'block' : 'none';\n",
              "\n",
              "        async function convertToInteractive(key) {\n",
              "          const element = document.querySelector('#df-275f73dc-eac6-4622-9595-000deba3d473');\n",
              "          const dataTable =\n",
              "            await google.colab.kernel.invokeFunction('convertToInteractive',\n",
              "                                                     [key], {});\n",
              "          if (!dataTable) return;\n",
              "\n",
              "          const docLinkHtml = 'Like what you see? Visit the ' +\n",
              "            '<a target=\"_blank\" href=https://colab.research.google.com/notebooks/data_table.ipynb>data table notebook</a>'\n",
              "            + ' to learn more about interactive tables.';\n",
              "          element.innerHTML = '';\n",
              "          dataTable['output_type'] = 'display_data';\n",
              "          await google.colab.output.renderOutput(dataTable, element);\n",
              "          const docLink = document.createElement('div');\n",
              "          docLink.innerHTML = docLinkHtml;\n",
              "          element.appendChild(docLink);\n",
              "        }\n",
              "      </script>\n",
              "    </div>\n",
              "  </div>\n",
              "  "
            ]
          },
          "metadata": {},
          "execution_count": 4
        }
      ]
    },
    {
      "cell_type": "code",
      "source": [
        "x = dataset.iloc[:, 1: 5].values # The provided data is encoded in array"
      ],
      "metadata": {
        "id": "c1Zy1jyUraqp"
      },
      "execution_count": 5,
      "outputs": []
    },
    {
      "cell_type": "code",
      "source": [
        "x"
      ],
      "metadata": {
        "colab": {
          "base_uri": "https://localhost:8080/"
        },
        "id": "ZIsBvlXcrv9w",
        "outputId": "aa89347a-2997-42c4-c0f4-41a2ee966f8d"
      },
      "execution_count": 6,
      "outputs": [
        {
          "output_type": "execute_result",
          "data": {
            "text/plain": [
              "array([[2.8, 5.6, 2.2, 2. ],\n",
              "       [2.3, 3.3, 1. , 1. ],\n",
              "       [2.5, 4.5, 1.7, 2. ],\n",
              "       [3.1, 1.5, 0.1, 0. ],\n",
              "       [3.8, 1.7, 0.3, 0. ],\n",
              "       [3.2, 1.3, 0.2, 0. ],\n",
              "       [3.4, 1.5, 0.4, 0. ],\n",
              "       [3.1, 5.1, 2.3, 2. ],\n",
              "       [3.1, 4.4, 1.4, 1. ],\n",
              "       [3.7, 1.5, 0.4, 0. ],\n",
              "       [2.7, 3.9, 1.4, 1. ],\n",
              "       [3.1, 4.9, 1.5, 1. ],\n",
              "       [4. , 1.2, 0.2, 0. ],\n",
              "       [3.9, 1.7, 0.4, 0. ],\n",
              "       [3.8, 6.7, 2.2, 2. ],\n",
              "       [3.3, 4.7, 1.6, 1. ],\n",
              "       [3.2, 5.9, 2.3, 2. ],\n",
              "       [3. , 6.6, 2.1, 2. ],\n",
              "       [3.2, 5.3, 2.3, 2. ],\n",
              "       [4.4, 1.5, 0.4, 0. ],\n",
              "       [3.3, 5.7, 2.1, 2. ],\n",
              "       [2.8, 5.6, 2.1, 2. ],\n",
              "       [3.9, 1.3, 0.4, 0. ],\n",
              "       [2.6, 5.6, 1.4, 2. ],\n",
              "       [3. , 5.8, 1.6, 2. ],\n",
              "       [3.5, 1.5, 0.2, 0. ],\n",
              "       [2.6, 4. , 1.2, 1. ],\n",
              "       [3. , 5.1, 1.8, 2. ],\n",
              "       [3. , 4.5, 1.5, 1. ],\n",
              "       [3. , 5. , 1.7, 1. ],\n",
              "       [2.3, 4.4, 1.3, 1. ],\n",
              "       [2.5, 3. , 1.1, 1. ],\n",
              "       [3.2, 4.5, 1.5, 1. ],\n",
              "       [3. , 5.5, 2.1, 2. ],\n",
              "       [2.8, 4.8, 1.8, 2. ],\n",
              "       [3.2, 5.7, 2.3, 2. ],\n",
              "       [3.2, 5.1, 2. , 2. ],\n",
              "       [2.8, 5.1, 2.4, 2. ],\n",
              "       [3.8, 1.5, 0.3, 0. ],\n",
              "       [3. , 1.4, 0.3, 0. ],\n",
              "       [3.8, 6.4, 2. , 2. ],\n",
              "       [2.7, 5.1, 1.9, 2. ],\n",
              "       [3. , 5.2, 2.3, 2. ],\n",
              "       [3.8, 1.9, 0.4, 0. ],\n",
              "       [3.2, 1.6, 0.2, 0. ],\n",
              "       [2.2, 5. , 1.5, 2. ],\n",
              "       [3.4, 1.6, 0.2, 0. ],\n",
              "       [2.6, 6.9, 2.3, 2. ],\n",
              "       [3.6, 1. , 0.2, 0. ],\n",
              "       [3.2, 6. , 1.8, 2. ],\n",
              "       [3.3, 1.4, 0.2, 0. ],\n",
              "       [3. , 4.4, 1.4, 1. ],\n",
              "       [2.8, 4. , 1.3, 1. ],\n",
              "       [3.2, 1.2, 0.2, 0. ],\n",
              "       [3.2, 4.7, 1.4, 1. ],\n",
              "       [3. , 4.8, 1.8, 2. ],\n",
              "       [2.8, 6.1, 1.9, 2. ],\n",
              "       [2.7, 5.1, 1.9, 2. ],\n",
              "       [3.4, 5.4, 2.3, 2. ],\n",
              "       [2. , 3.5, 1. , 1. ],\n",
              "       [2.5, 3.9, 1.1, 1. ],\n",
              "       [3.1, 5.6, 2.4, 2. ],\n",
              "       [2.5, 5. , 1.9, 2. ],\n",
              "       [3.1, 5.5, 1.8, 2. ],\n",
              "       [2.2, 4.5, 1.5, 1. ],\n",
              "       [2.9, 6.3, 1.8, 2. ],\n",
              "       [3. , 1.3, 0.2, 0. ],\n",
              "       [3.6, 6.1, 2.5, 2. ],\n",
              "       [3. , 5.5, 1.8, 2. ],\n",
              "       [3.4, 1.5, 0.2, 0. ],\n",
              "       [3.2, 1.3, 0.2, 0. ],\n",
              "       [2.9, 4.6, 1.3, 1. ],\n",
              "       [3.5, 1.3, 0.2, 0. ],\n",
              "       [3. , 6.1, 2.3, 2. ],\n",
              "       [3. , 4.9, 1.8, 2. ],\n",
              "       [3.1, 1.5, 0.1, 0. ],\n",
              "       [2.4, 3.8, 1.1, 1. ],\n",
              "       [2.9, 4.2, 1.3, 1. ],\n",
              "       [2.9, 4.5, 1.5, 1. ],\n",
              "       [2.7, 5.3, 1.9, 2. ],\n",
              "       [3.7, 1.5, 0.2, 0. ],\n",
              "       [2.9, 4.7, 1.4, 1. ],\n",
              "       [2.8, 4.6, 1.5, 1. ],\n",
              "       [2.7, 4.2, 1.3, 1. ],\n",
              "       [3.4, 5.6, 2.4, 2. ],\n",
              "       [3.1, 1.5, 0.1, 0. ],\n",
              "       [2.8, 4.8, 1.4, 1. ],\n",
              "       [2.8, 4.5, 1.3, 1. ],\n",
              "       [2.7, 5.1, 1.6, 1. ],\n",
              "       [3.5, 1.3, 0.3, 0. ],\n",
              "       [3. , 5.2, 2. , 2. ],\n",
              "       [2.8, 4.7, 1.2, 1. ],\n",
              "       [3.5, 1.4, 0.3, 0. ],\n",
              "       [3.1, 1.5, 0.2, 0. ],\n",
              "       [3. , 5.8, 2.2, 2. ],\n",
              "       [3.4, 1.4, 0.3, 0. ],\n",
              "       [3.2, 1.4, 0.2, 0. ],\n",
              "       [2.8, 6.7, 2. , 2. ],\n",
              "       [3.2, 4.8, 1.8, 1. ],\n",
              "       [3.8, 1.6, 0.2, 0. ],\n",
              "       [3. , 1.4, 0.2, 0. ],\n",
              "       [2.4, 3.3, 1. , 1. ],\n",
              "       [2.3, 1.3, 0.3, 0. ],\n",
              "       [2.7, 4.1, 1. , 1. ],\n",
              "       [3.4, 1.6, 0.4, 0. ],\n",
              "       [3.4, 1.4, 0.2, 0. ],\n",
              "       [3.7, 1.5, 0.2, 0. ],\n",
              "       [3.6, 1.4, 0.2, 0. ],\n",
              "       [2.9, 3.6, 1.3, 1. ],\n",
              "       [3.1, 1.6, 0.2, 0. ],\n",
              "       [2.7, 4.9, 1.8, 2. ],\n",
              "       [2.8, 4.1, 1.3, 1. ],\n",
              "       [3. , 1.6, 0.2, 0. ],\n",
              "       [3.3, 6. , 2.5, 2. ],\n",
              "       [3.5, 1.6, 0.6, 0. ],\n",
              "       [2.6, 4.4, 1.2, 1. ],\n",
              "       [3. , 4.2, 1.2, 1. ],\n",
              "       [2.9, 1.4, 0.2, 0. ],\n",
              "       [3. , 1.4, 0.1, 0. ],\n",
              "       [2.4, 3.7, 1. , 1. ]])"
            ]
          },
          "metadata": {},
          "execution_count": 6
        }
      ]
    },
    {
      "cell_type": "code",
      "source": [
        "y = dataset.iloc[:,4].values"
      ],
      "metadata": {
        "id": "-v56Ppx9rxJr"
      },
      "execution_count": 7,
      "outputs": []
    },
    {
      "cell_type": "code",
      "source": [
        "y"
      ],
      "metadata": {
        "colab": {
          "base_uri": "https://localhost:8080/"
        },
        "id": "fdpwsZ-lsEBp",
        "outputId": "cdf17d92-4ad7-4394-d13f-40bb4867cd08"
      },
      "execution_count": 8,
      "outputs": [
        {
          "output_type": "execute_result",
          "data": {
            "text/plain": [
              "array([2, 1, 2, 0, 0, 0, 0, 2, 1, 0, 1, 1, 0, 0, 2, 1, 2, 2, 2, 0, 2, 2,\n",
              "       0, 2, 2, 0, 1, 2, 1, 1, 1, 1, 1, 2, 2, 2, 2, 2, 0, 0, 2, 2, 2, 0,\n",
              "       0, 2, 0, 2, 0, 2, 0, 1, 1, 0, 1, 2, 2, 2, 2, 1, 1, 2, 2, 2, 1, 2,\n",
              "       0, 2, 2, 0, 0, 1, 0, 2, 2, 0, 1, 1, 1, 2, 0, 1, 1, 1, 2, 0, 1, 1,\n",
              "       1, 0, 2, 1, 0, 0, 2, 0, 0, 2, 1, 0, 0, 1, 0, 1, 0, 0, 0, 0, 1, 0,\n",
              "       2, 1, 0, 2, 0, 1, 1, 0, 0, 1])"
            ]
          },
          "metadata": {},
          "execution_count": 8
        }
      ]
    },
    {
      "cell_type": "code",
      "source": [
        "from sklearn.preprocessing import LabelEncoder\n",
        "labelencoder_y = LabelEncoder()\n",
        "y = labelencoder_y.fit_transform(y) # by This the whole data is converted into mathematical data, of the name of the flowers"
      ],
      "metadata": {
        "id": "3UI5xffgsqQc"
      },
      "execution_count": 9,
      "outputs": []
    },
    {
      "cell_type": "code",
      "source": [
        "y"
      ],
      "metadata": {
        "colab": {
          "base_uri": "https://localhost:8080/"
        },
        "id": "MMFD_3yOtHED",
        "outputId": "06a6b1eb-3c08-4c47-8d14-48f6ed0654cb"
      },
      "execution_count": 10,
      "outputs": [
        {
          "output_type": "execute_result",
          "data": {
            "text/plain": [
              "array([2, 1, 2, 0, 0, 0, 0, 2, 1, 0, 1, 1, 0, 0, 2, 1, 2, 2, 2, 0, 2, 2,\n",
              "       0, 2, 2, 0, 1, 2, 1, 1, 1, 1, 1, 2, 2, 2, 2, 2, 0, 0, 2, 2, 2, 0,\n",
              "       0, 2, 0, 2, 0, 2, 0, 1, 1, 0, 1, 2, 2, 2, 2, 1, 1, 2, 2, 2, 1, 2,\n",
              "       0, 2, 2, 0, 0, 1, 0, 2, 2, 0, 1, 1, 1, 2, 0, 1, 1, 1, 2, 0, 1, 1,\n",
              "       1, 0, 2, 1, 0, 0, 2, 0, 0, 2, 1, 0, 0, 1, 0, 1, 0, 0, 0, 0, 1, 0,\n",
              "       2, 1, 0, 2, 0, 1, 1, 0, 0, 1])"
            ]
          },
          "metadata": {},
          "execution_count": 10
        }
      ]
    },
    {
      "cell_type": "markdown",
      "source": [
        "##**Modelling :- spliting data in train and test**"
      ],
      "metadata": {
        "id": "jkcRWjZavBHn"
      }
    },
    {
      "cell_type": "code",
      "source": [
        " from sklearn.model_selection import train_test_split \n",
        " x_train, x_test, y_train, y_test = train_test_split(x, y, test_size = 0.2) # 0.2 means 20 % data is for testing and 80% is for traing the data"
      ],
      "metadata": {
        "id": "c32-osc1tQi3"
      },
      "execution_count": 11,
      "outputs": []
    },
    {
      "cell_type": "markdown",
      "source": [
        "##**Logistics Regression**"
      ],
      "metadata": {
        "id": "YoD4C9JFvaU3"
      }
    },
    {
      "cell_type": "code",
      "source": [
        "from sklearn.linear_model import LogisticRegression\n",
        "logmodel = LogisticRegression()\n",
        "logmodel.fit(x_train, y_train)"
      ],
      "metadata": {
        "colab": {
          "base_uri": "https://localhost:8080/"
        },
        "id": "9d4CW159u8vC",
        "outputId": "b076ce71-ee20-45bd-f673-b5f37e78d80a"
      },
      "execution_count": 12,
      "outputs": [
        {
          "output_type": "execute_result",
          "data": {
            "text/plain": [
              "LogisticRegression()"
            ]
          },
          "metadata": {},
          "execution_count": 12
        }
      ]
    },
    {
      "cell_type": "code",
      "source": [
        "y_pred = logmodel.predict(x_test)"
      ],
      "metadata": {
        "id": "RF5j5Slov_OZ"
      },
      "execution_count": 13,
      "outputs": []
    },
    {
      "cell_type": "code",
      "source": [
        "y_pred"
      ],
      "metadata": {
        "colab": {
          "base_uri": "https://localhost:8080/"
        },
        "id": "sR_zS5mDxCnd",
        "outputId": "5789e1f8-8679-4159-d77c-b0567380c775"
      },
      "execution_count": 14,
      "outputs": [
        {
          "output_type": "execute_result",
          "data": {
            "text/plain": [
              "array([2, 2, 1, 2, 2, 0, 1, 1, 0, 1, 0, 0, 2, 1, 2, 0, 2, 0, 2, 1, 2, 2,\n",
              "       0, 0])"
            ]
          },
          "metadata": {},
          "execution_count": 14
        }
      ]
    },
    {
      "cell_type": "code",
      "source": [
        "y_test"
      ],
      "metadata": {
        "colab": {
          "base_uri": "https://localhost:8080/"
        },
        "id": "IsPKX4AUxELR",
        "outputId": "ba4edb9a-bc14-49a6-addf-15dc4e273bcb"
      },
      "execution_count": 15,
      "outputs": [
        {
          "output_type": "execute_result",
          "data": {
            "text/plain": [
              "array([2, 2, 1, 2, 2, 0, 1, 1, 0, 1, 0, 0, 2, 1, 2, 0, 2, 0, 2, 1, 2, 2,\n",
              "       0, 0])"
            ]
          },
          "metadata": {},
          "execution_count": 15
        }
      ]
    },
    {
      "cell_type": "code",
      "source": [
        "from sklearn.metrics import confusion_matrix\n",
        "confusion_matrix(y_test, y_pred)"
      ],
      "metadata": {
        "colab": {
          "base_uri": "https://localhost:8080/"
        },
        "id": "fwG6PExmxGSR",
        "outputId": "cd906f6f-41d5-432d-93cc-cad0ed690e34"
      },
      "execution_count": 16,
      "outputs": [
        {
          "output_type": "execute_result",
          "data": {
            "text/plain": [
              "array([[ 8,  0,  0],\n",
              "       [ 0,  6,  0],\n",
              "       [ 0,  0, 10]])"
            ]
          },
          "metadata": {},
          "execution_count": 16
        }
      ]
    },
    {
      "cell_type": "markdown",
      "source": [
        "As the given matrix, first row means the Actual data of the first category of the flowers,and so on. and the first column means the predicted data of the first category."
      ],
      "metadata": {
        "id": "NtIpgKEw2Xr2"
      }
    },
    {
      "cell_type": "code",
      "source": [
        "#Accuracy can be measured by (10 + 6 + 8) / (Summation of all numbers in matrix)\n",
        "#i.e. 100 percent\n",
        "24/24 "
      ],
      "metadata": {
        "colab": {
          "base_uri": "https://localhost:8080/"
        },
        "id": "5eVFYT-YxZHZ",
        "outputId": "18b35221-6e28-4285-e4c1-58dcc795b4d0"
      },
      "execution_count": 17,
      "outputs": [
        {
          "output_type": "execute_result",
          "data": {
            "text/plain": [
              "1.0"
            ]
          },
          "metadata": {},
          "execution_count": 17
        }
      ]
    },
    {
      "cell_type": "markdown",
      "source": [
        "##**K-Nearest Neighbours**"
      ],
      "metadata": {
        "id": "0OopP_ZByE6x"
      }
    },
    {
      "cell_type": "code",
      "source": [
        "from sklearn.neighbors import KNeighborsClassifier\n",
        "classifier_knn = KNeighborsClassifier(n_neighbors = 5, metric = 'minkowski', p = 2) #Will chech for 5 neighbors\n",
        "classifier_knn.fit(x_train, y_train)"
      ],
      "metadata": {
        "colab": {
          "base_uri": "https://localhost:8080/"
        },
        "id": "pS1FvcjHx-oi",
        "outputId": "323bba8b-e4bb-4194-8c79-167cdb6d1aa9"
      },
      "execution_count": 18,
      "outputs": [
        {
          "output_type": "execute_result",
          "data": {
            "text/plain": [
              "KNeighborsClassifier()"
            ]
          },
          "metadata": {},
          "execution_count": 18
        }
      ]
    },
    {
      "cell_type": "code",
      "source": [
        "y_pred = classifier_knn.predict(x_test)"
      ],
      "metadata": {
        "id": "E7l5J6MqyiP9"
      },
      "execution_count": 19,
      "outputs": []
    },
    {
      "cell_type": "code",
      "source": [
        "confusion_matrix(y_test, y_pred)"
      ],
      "metadata": {
        "colab": {
          "base_uri": "https://localhost:8080/"
        },
        "id": "HhlnLyAbzI5R",
        "outputId": "2bf6144a-eb71-487f-a1f6-3fa81418eecf"
      },
      "execution_count": 20,
      "outputs": [
        {
          "output_type": "execute_result",
          "data": {
            "text/plain": [
              "array([[ 8,  0,  0],\n",
              "       [ 0,  6,  0],\n",
              "       [ 0,  0, 10]])"
            ]
          },
          "metadata": {},
          "execution_count": 20
        }
      ]
    },
    {
      "cell_type": "code",
      "source": [
        "#Accuracy 100%"
      ],
      "metadata": {
        "id": "qea7SXx9zQar"
      },
      "execution_count": 21,
      "outputs": []
    },
    {
      "cell_type": "markdown",
      "source": [
        "##**Naive Bayes**"
      ],
      "metadata": {
        "id": "ucaPHXjbzlsH"
      }
    },
    {
      "cell_type": "code",
      "source": [
        "from sklearn.naive_bayes import GaussianNB\n",
        "classifier_nb = GaussianNB()\n",
        "classifier_nb.fit(x_train, y_train)"
      ],
      "metadata": {
        "colab": {
          "base_uri": "https://localhost:8080/"
        },
        "id": "kDFRaL46zpjr",
        "outputId": "945e90f9-0eb2-4b51-b341-646fc66dfdaf"
      },
      "execution_count": 22,
      "outputs": [
        {
          "output_type": "execute_result",
          "data": {
            "text/plain": [
              "GaussianNB()"
            ]
          },
          "metadata": {},
          "execution_count": 22
        }
      ]
    },
    {
      "cell_type": "code",
      "source": [
        "y_pred = classifier_nb.predict(x_test)"
      ],
      "metadata": {
        "id": "bRnhQweq0CpT"
      },
      "execution_count": 23,
      "outputs": []
    },
    {
      "cell_type": "code",
      "source": [
        "confusion_matrix(y_test, y_pred)"
      ],
      "metadata": {
        "colab": {
          "base_uri": "https://localhost:8080/"
        },
        "id": "C4saqR6M0Vjj",
        "outputId": "5c8a614d-7e97-4eb3-dde2-c4c2c6a0e83c"
      },
      "execution_count": 24,
      "outputs": [
        {
          "output_type": "execute_result",
          "data": {
            "text/plain": [
              "array([[ 8,  0,  0],\n",
              "       [ 0,  6,  0],\n",
              "       [ 0,  0, 10]])"
            ]
          },
          "metadata": {},
          "execution_count": 24
        }
      ]
    },
    {
      "cell_type": "code",
      "source": [
        "# accuracy is equals to 100%"
      ],
      "metadata": {
        "id": "KWo_Y9g70ZaJ"
      },
      "execution_count": 25,
      "outputs": []
    },
    {
      "cell_type": "markdown",
      "source": [
        "##**Support Vector Machine**"
      ],
      "metadata": {
        "id": "4DEXT3uH0oEs"
      }
    },
    {
      "cell_type": "markdown",
      "source": [
        "###Sigmoid Kernel"
      ],
      "metadata": {
        "id": "6ZreXvTk1H6X"
      }
    },
    {
      "cell_type": "code",
      "source": [
        "from sklearn.svm import SVC\n",
        "classifier_svm_sigmoid = SVC(kernel = 'sigmoid')\n",
        "classifier_svm_sigmoid.fit(x_train, y_train)"
      ],
      "metadata": {
        "colab": {
          "base_uri": "https://localhost:8080/"
        },
        "id": "7Gt23tVt03ai",
        "outputId": "a95722c7-c104-4218-ff33-be2c2b062557"
      },
      "execution_count": 26,
      "outputs": [
        {
          "output_type": "execute_result",
          "data": {
            "text/plain": [
              "SVC(kernel='sigmoid')"
            ]
          },
          "metadata": {},
          "execution_count": 26
        }
      ]
    },
    {
      "cell_type": "code",
      "source": [
        "y_pred = classifier_svm_sigmoid.predict(x_test)"
      ],
      "metadata": {
        "id": "Y_rh-Z8T1mLr"
      },
      "execution_count": 27,
      "outputs": []
    },
    {
      "cell_type": "code",
      "source": [
        "confusion_matrix(y_test, y_pred)"
      ],
      "metadata": {
        "colab": {
          "base_uri": "https://localhost:8080/"
        },
        "id": "Fz2YaMCD1rvA",
        "outputId": "8c9e6213-7642-44e9-9c1e-a51d007d01f7"
      },
      "execution_count": 28,
      "outputs": [
        {
          "output_type": "execute_result",
          "data": {
            "text/plain": [
              "array([[ 1,  0,  7],\n",
              "       [ 4,  0,  2],\n",
              "       [10,  0,  0]])"
            ]
          },
          "metadata": {},
          "execution_count": 28
        }
      ]
    },
    {
      "cell_type": "code",
      "source": [
        "#Here models accuracy is decreased that is becomed 16%"
      ],
      "metadata": {
        "id": "d9_zHck41txx"
      },
      "execution_count": 29,
      "outputs": []
    },
    {
      "cell_type": "markdown",
      "source": [
        "###Linear Kernel"
      ],
      "metadata": {
        "id": "pDa_kA8C3Uu4"
      }
    },
    {
      "cell_type": "code",
      "source": [
        "from sklearn.svm import SVC\n",
        "classifier_svm_linear = SVC(kernel = 'linear')\n",
        "classifier_svm_linear.fit(x_train, y_train)"
      ],
      "metadata": {
        "colab": {
          "base_uri": "https://localhost:8080/"
        },
        "id": "sbPZeelN2HqL",
        "outputId": "c8db6b6e-93ee-4918-9b4f-0cdfa1c582ce"
      },
      "execution_count": 30,
      "outputs": [
        {
          "output_type": "execute_result",
          "data": {
            "text/plain": [
              "SVC(kernel='linear')"
            ]
          },
          "metadata": {},
          "execution_count": 30
        }
      ]
    },
    {
      "cell_type": "code",
      "source": [
        "y_pred = classifier_svm_linear.predict(x_test)"
      ],
      "metadata": {
        "id": "-iw3TUnY3lV_"
      },
      "execution_count": 31,
      "outputs": []
    },
    {
      "cell_type": "code",
      "source": [
        "confusion_matrix(y_test, y_pred)"
      ],
      "metadata": {
        "colab": {
          "base_uri": "https://localhost:8080/"
        },
        "id": "6Gy3ffzc3p9V",
        "outputId": "3d9561ee-33ff-4e3c-f928-84441333d4c0"
      },
      "execution_count": 32,
      "outputs": [
        {
          "output_type": "execute_result",
          "data": {
            "text/plain": [
              "array([[ 8,  0,  0],\n",
              "       [ 0,  6,  0],\n",
              "       [ 0,  0, 10]])"
            ]
          },
          "metadata": {},
          "execution_count": 32
        }
      ]
    },
    {
      "cell_type": "code",
      "source": [
        "# accuracy is equals to 100%"
      ],
      "metadata": {
        "id": "YT4DDz-N3r75"
      },
      "execution_count": 33,
      "outputs": []
    },
    {
      "cell_type": "markdown",
      "source": [
        "###Radial Basis Function  Kernel"
      ],
      "metadata": {
        "id": "-5W2qXg-3vTL"
      }
    },
    {
      "cell_type": "code",
      "source": [
        "from sklearn.svm import SVC\n",
        "classifier_svm_rbf = SVC(kernel = 'rbf')\n",
        "classifier_svm_rbf.fit(x_train, y_train)"
      ],
      "metadata": {
        "colab": {
          "base_uri": "https://localhost:8080/"
        },
        "id": "ST-I_mHE4K3g",
        "outputId": "c82c52f9-74fa-4643-ab0d-56d53850c8e8"
      },
      "execution_count": 34,
      "outputs": [
        {
          "output_type": "execute_result",
          "data": {
            "text/plain": [
              "SVC()"
            ]
          },
          "metadata": {},
          "execution_count": 34
        }
      ]
    },
    {
      "cell_type": "code",
      "source": [
        "y_pred = classifier_svm_rbf.predict(x_test)"
      ],
      "metadata": {
        "id": "QXh9-yYk4wN-"
      },
      "execution_count": 35,
      "outputs": []
    },
    {
      "cell_type": "code",
      "source": [
        "confusion_matrix(y_test, y_pred)"
      ],
      "metadata": {
        "colab": {
          "base_uri": "https://localhost:8080/"
        },
        "id": "2a6CW-E-437z",
        "outputId": "951bbd3a-20fa-4acd-a158-9de9b6dc4f8b"
      },
      "execution_count": 36,
      "outputs": [
        {
          "output_type": "execute_result",
          "data": {
            "text/plain": [
              "array([[ 8,  0,  0],\n",
              "       [ 0,  6,  0],\n",
              "       [ 0,  0, 10]])"
            ]
          },
          "metadata": {},
          "execution_count": 36
        }
      ]
    },
    {
      "cell_type": "code",
      "source": [
        "# accuracy is equals to 100%"
      ],
      "metadata": {
        "id": "LgkWa9Ag5CW3"
      },
      "execution_count": 37,
      "outputs": []
    },
    {
      "cell_type": "markdown",
      "source": [
        "###**Polynomial Kernel**"
      ],
      "metadata": {
        "id": "ydDslRN35RTp"
      }
    },
    {
      "cell_type": "code",
      "source": [
        "from sklearn.svm import SVC\n",
        "classifier_svm_poly = SVC(kernel = 'poly')\n",
        "classifier_svm_poly.fit(x_train, y_train)"
      ],
      "metadata": {
        "colab": {
          "base_uri": "https://localhost:8080/"
        },
        "id": "xoZ2oFtv5Xfh",
        "outputId": "f0a815d1-75aa-41d6-d816-a127bec1185e"
      },
      "execution_count": 38,
      "outputs": [
        {
          "output_type": "execute_result",
          "data": {
            "text/plain": [
              "SVC(kernel='poly')"
            ]
          },
          "metadata": {},
          "execution_count": 38
        }
      ]
    },
    {
      "cell_type": "code",
      "source": [
        "y_pred = classifier_svm_poly.predict(x_test)"
      ],
      "metadata": {
        "id": "FEKVy1hT5k7u"
      },
      "execution_count": 39,
      "outputs": []
    },
    {
      "cell_type": "code",
      "source": [
        "confusion_matrix(y_test, y_pred)"
      ],
      "metadata": {
        "colab": {
          "base_uri": "https://localhost:8080/"
        },
        "id": "CQOT0Ztg5nlm",
        "outputId": "36248e4e-40f8-496b-a6eb-6fde0a730da4"
      },
      "execution_count": 40,
      "outputs": [
        {
          "output_type": "execute_result",
          "data": {
            "text/plain": [
              "array([[ 8,  0,  0],\n",
              "       [ 0,  6,  0],\n",
              "       [ 0,  0, 10]])"
            ]
          },
          "metadata": {},
          "execution_count": 40
        }
      ]
    },
    {
      "cell_type": "code",
      "source": [
        "# accuracy is equals to 100%"
      ],
      "metadata": {
        "id": "dW6og9Me5ouM"
      },
      "execution_count": 41,
      "outputs": []
    },
    {
      "cell_type": "markdown",
      "source": [
        "##**Decision Tree Classfier** "
      ],
      "metadata": {
        "id": "foJrZHDV7BHr"
      }
    },
    {
      "cell_type": "code",
      "source": [
        "from sklearn.tree import DecisionTreeClassifier\n",
        "classifier_dtc = DecisionTreeClassifier(criterion = 'entropy') # entropy means impurity in the data set\n",
        "classifier_dtc.fit(x_train, y_train)"
      ],
      "metadata": {
        "colab": {
          "base_uri": "https://localhost:8080/"
        },
        "id": "Oo2QleLu7IrC",
        "outputId": "ac20b6e8-16f7-4743-a2f7-3504653f5d51"
      },
      "execution_count": 42,
      "outputs": [
        {
          "output_type": "execute_result",
          "data": {
            "text/plain": [
              "DecisionTreeClassifier(criterion='entropy')"
            ]
          },
          "metadata": {},
          "execution_count": 42
        }
      ]
    },
    {
      "cell_type": "code",
      "source": [
        "y_pred  = classifier_dtc.predict(x_test)"
      ],
      "metadata": {
        "id": "0y97aNiX7qAu"
      },
      "execution_count": 43,
      "outputs": []
    },
    {
      "cell_type": "code",
      "source": [
        "confusion_matrix(y_test, y_pred)"
      ],
      "metadata": {
        "colab": {
          "base_uri": "https://localhost:8080/"
        },
        "id": "i-gsk5tw71ke",
        "outputId": "d8a2fc43-7707-4f19-ae60-35c954427d38"
      },
      "execution_count": 44,
      "outputs": [
        {
          "output_type": "execute_result",
          "data": {
            "text/plain": [
              "array([[ 8,  0,  0],\n",
              "       [ 0,  6,  0],\n",
              "       [ 0,  0, 10]])"
            ]
          },
          "metadata": {},
          "execution_count": 44
        }
      ]
    },
    {
      "cell_type": "code",
      "source": [
        "# accuracy is equals to 100%"
      ],
      "metadata": {
        "id": "bnUwfpgW73vq"
      },
      "execution_count": 45,
      "outputs": []
    },
    {
      "cell_type": "markdown",
      "source": [
        "##**Random Forest** "
      ],
      "metadata": {
        "id": "SzCHBGI28oPP"
      }
    },
    {
      "cell_type": "code",
      "source": [
        "from sklearn.ensemble import RandomForestClassifier\n",
        "classifier_rf = RandomForestClassifier(n_estimators = 3, criterion = 'entropy')\n",
        "classifier_rf.fit(x_train, y_train)"
      ],
      "metadata": {
        "colab": {
          "base_uri": "https://localhost:8080/"
        },
        "id": "00Kxh_8f8ucD",
        "outputId": "cb9fa39f-4b86-48b5-b3f5-bf197abd15ef"
      },
      "execution_count": 46,
      "outputs": [
        {
          "output_type": "execute_result",
          "data": {
            "text/plain": [
              "RandomForestClassifier(criterion='entropy', n_estimators=3)"
            ]
          },
          "metadata": {},
          "execution_count": 46
        }
      ]
    },
    {
      "cell_type": "code",
      "source": [
        "y_pred  = classifier_rf.predict(x_test)"
      ],
      "metadata": {
        "id": "7GWxtlYa9iTE"
      },
      "execution_count": 47,
      "outputs": []
    },
    {
      "cell_type": "code",
      "source": [
        "confusion_matrix(y_test, y_pred)"
      ],
      "metadata": {
        "colab": {
          "base_uri": "https://localhost:8080/"
        },
        "id": "doB_xlWW9pTG",
        "outputId": "b1623aba-f002-48ef-b526-50f658916c7c"
      },
      "execution_count": 48,
      "outputs": [
        {
          "output_type": "execute_result",
          "data": {
            "text/plain": [
              "array([[ 8,  0,  0],\n",
              "       [ 0,  6,  0],\n",
              "       [ 0,  0, 10]])"
            ]
          },
          "metadata": {},
          "execution_count": 48
        }
      ]
    },
    {
      "cell_type": "code",
      "source": [
        "# accuracy is equals to 100%"
      ],
      "metadata": {
        "id": "OFV-ACuj9te3"
      },
      "execution_count": 49,
      "outputs": []
    }
  ]
}