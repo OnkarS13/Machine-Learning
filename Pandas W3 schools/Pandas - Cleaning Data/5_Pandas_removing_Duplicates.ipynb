{
  "nbformat": 4,
  "nbformat_minor": 0,
  "metadata": {
    "colab": {
      "name": "5_Pandas - removing Duplicates.ipynb",
      "provenance": []
    },
    "kernelspec": {
      "name": "python3",
      "display_name": "Python 3"
    },
    "language_info": {
      "name": "python"
    }
  },
  "cells": [
    {
      "cell_type": "markdown",
      "source": [
        "#Pandas - Removing Duplicates#"
      ],
      "metadata": {
        "id": "o6ws_A5KGHoE"
      }
    },
    {
      "cell_type": "markdown",
      "source": [
        "##Discovering Duplicates##\n",
        "\n",
        "Duplicate rows are rows that have been registered more than one time.\n",
        "\n"
      ],
      "metadata": {
        "id": "Tt3WJXyuGVOh"
      }
    },
    {
      "cell_type": "markdown",
      "source": [
        "By taking a look at our test data set, we can assume that row 11 and 12 are duplicates.\n",
        "\n",
        "To discover duplicates, we can use the duplicated() method.\n",
        "\n",
        "The duplicated() method returns a Boolean values for each row:"
      ],
      "metadata": {
        "id": "rTSN4sp1GYne"
      }
    },
    {
      "cell_type": "code",
      "execution_count": null,
      "metadata": {
        "id": "LedGo1CNGFcB"
      },
      "outputs": [],
      "source": [
        "import pandas as pd\n",
        "\n",
        "df = pd.read_csv('data.csv')\n",
        "\n",
        "print(df.duplicated())\n"
      ]
    },
    {
      "cell_type": "markdown",
      "source": [
        "##Removing Duplicates##"
      ],
      "metadata": {
        "id": "7WuvnSrVGhWJ"
      }
    },
    {
      "cell_type": "markdown",
      "source": [
        "To remove duplicates, use the drop_duplicates() method.\n",
        "\n"
      ],
      "metadata": {
        "id": "WoNI_FF8GlQ_"
      }
    },
    {
      "cell_type": "code",
      "source": [
        "df.drop_duplicates(inplace = True)"
      ],
      "metadata": {
        "id": "OsHhPoo0GO4M"
      },
      "execution_count": null,
      "outputs": []
    },
    {
      "cell_type": "markdown",
      "source": [
        "***Remember: The (inplace = True) will make sure that the method does NOT return a new DataFrame, but it will remove all duplicates from the original DataFrame.***"
      ],
      "metadata": {
        "id": "jusoe7j9GptA"
      }
    },
    {
      "cell_type": "code",
      "source": [],
      "metadata": {
        "id": "xeFwCyz3GrGn"
      },
      "execution_count": null,
      "outputs": []
    }
  ]
}