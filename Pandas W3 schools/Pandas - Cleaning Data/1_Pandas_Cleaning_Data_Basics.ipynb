{
  "nbformat": 4,
  "nbformat_minor": 0,
  "metadata": {
    "colab": {
      "name": "1_Pandas Cleaning Data Basics.ipynb",
      "provenance": []
    },
    "kernelspec": {
      "name": "python3",
      "display_name": "Python 3"
    },
    "language_info": {
      "name": "python"
    }
  },
  "cells": [
    {
      "cell_type": "markdown",
      "source": [
        "#Pandas - Cleaning Data#"
      ],
      "metadata": {
        "id": "GZDwzWdi31Sx"
      }
    },
    {
      "cell_type": "markdown",
      "source": [
        "***Data Cleaning***\n",
        "\n",
        "Data cleaning means fixing bad data in your data set.\n",
        "\n",
        "Bad data could be:\n",
        "\n",
        "1. Empty cells\n",
        "2. Data in wrong format\n",
        "3. Wrong data\n",
        "4. Duplicates\n",
        "\n",
        "In this tutorial you will learn how to deal with all of them."
      ],
      "metadata": {
        "id": "2BsbfF0m36Ym"
      }
    },
    {
      "cell_type": "code",
      "execution_count": null,
      "metadata": {
        "id": "pfgzyD9h3faO"
      },
      "outputs": [],
      "source": []
    }
  ]
}