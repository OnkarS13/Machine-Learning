{
  "nbformat": 4,
  "nbformat_minor": 0,
  "metadata": {
    "colab": {
      "name": "4_Pandas _Fixing Wrong Data.ipynb",
      "provenance": []
    },
    "kernelspec": {
      "name": "python3",
      "display_name": "Python 3"
    },
    "language_info": {
      "name": "python"
    }
  },
  "cells": [
    {
      "cell_type": "markdown",
      "source": [
        "#Pandas - Fixing Wrong Data#"
      ],
      "metadata": {
        "id": "VefBsq7wD4xh"
      }
    },
    {
      "cell_type": "markdown",
      "source": [
        "**Wrong Data**\n",
        "\n",
        "\"Wrong data\" does not have to be \"empty cells\" or \"wrong format\", it can just be wrong, like if someone registered \"199\" instead of \"1.99\".\n",
        "\n",
        "Sometimes you can spot wrong data by looking at the data set, because you have an expectation of what it should be.\n",
        "\n",
        "If you take a look at our data set, you can see that in row 7, the duration is 450, but for all the other rows the duration is between 30 and 60.\n",
        "\n",
        "It doesn't have to be wrong, but taking in consideration that this is the data set of someone's workout sessions, we conclude with the fact that this person did not work out in 450 minutes."
      ],
      "metadata": {
        "id": "BRcF_awtD9-a"
      }
    },
    {
      "cell_type": "markdown",
      "source": [
        "#Replacing Values#"
      ],
      "metadata": {
        "id": "sGhb94IZEKVv"
      }
    },
    {
      "cell_type": "markdown",
      "source": [
        "One way to fix wrong values is to replace them with something else.\n",
        "\n",
        "In our example, it is most likely a typo, and the value should be \"45\" instead of \"450\", and we could just insert \"45\" in row 7:"
      ],
      "metadata": {
        "id": "CN6WKfJYFNbc"
      }
    },
    {
      "cell_type": "code",
      "execution_count": null,
      "metadata": {
        "id": "NklzQv70DHPN"
      },
      "outputs": [],
      "source": [
        "import pandas as pd\n",
        "\n",
        "df = pd.read_csv('data.csv')\n",
        "\n",
        "df.loc[7,'Duration'] = 45\n",
        "\n",
        "print(df.to_string())"
      ]
    },
    {
      "cell_type": "markdown",
      "source": [
        "1. For small data sets you might be able to replace the wrong data one by one, but not for big data sets.\n",
        "\n",
        "2. To replace wrong data for larger data sets you can create some rules, e.g. set some boundaries for legal values, and replace any values that are outside of the boundaries.\n",
        "\n"
      ],
      "metadata": {
        "id": "xrQ62QOLFXvL"
      }
    },
    {
      "cell_type": "markdown",
      "source": [
        "Loop through all values in the \"Duration\" column.\n",
        "\n",
        "If the value is higher than 120, set it to 120:"
      ],
      "metadata": {
        "id": "YRueRvnMFesF"
      }
    },
    {
      "cell_type": "code",
      "source": [
        "import pandas as pd\n",
        "\n",
        "df = pd.read_csv('data.csv')\n",
        "\n",
        "for x in df.index:\n",
        "  if df.loc[x, \"Duration\"] > 120:\n",
        "    df.loc[x, \"Duration\"] = 120\n",
        "\n",
        "print(df.to_string())\n"
      ],
      "metadata": {
        "id": "GdZjukRpFZr1"
      },
      "execution_count": null,
      "outputs": []
    },
    {
      "cell_type": "markdown",
      "source": [
        "#Removing Rows#"
      ],
      "metadata": {
        "id": "MlZdHSwKFgl3"
      }
    },
    {
      "cell_type": "markdown",
      "source": [
        "1. Another way of handling wrong data is to remove the rows that contains wrong data.\n",
        "\n",
        "2. This way you do not have to find out what to replace them with, and there is a good chance you do not need them to do your analyses.**bold text**"
      ],
      "metadata": {
        "id": "3jy8DnLlFkq3"
      }
    },
    {
      "cell_type": "code",
      "source": [
        "#Delete rows where \"Duration\" is higher than 120:\n",
        "\n",
        "for x in df.index:\n",
        "  if df.loc[x, \"Duration\"] > 120:\n",
        "    df.drop(x, inplace = True)"
      ],
      "metadata": {
        "id": "fFQSGBzWFkRU"
      },
      "execution_count": null,
      "outputs": []
    },
    {
      "cell_type": "code",
      "source": [],
      "metadata": {
        "id": "35M1uiwgFgXR"
      },
      "execution_count": null,
      "outputs": []
    }
  ]
}