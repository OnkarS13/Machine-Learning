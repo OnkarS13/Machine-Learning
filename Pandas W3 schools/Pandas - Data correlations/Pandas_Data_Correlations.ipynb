{
  "nbformat": 4,
  "nbformat_minor": 0,
  "metadata": {
    "colab": {
      "name": "Pandas - Data Correlations.ipynb",
      "provenance": []
    },
    "kernelspec": {
      "name": "python3",
      "display_name": "Python 3"
    },
    "language_info": {
      "name": "python"
    }
  },
  "cells": [
    {
      "cell_type": "markdown",
      "source": [
        "#Finding Relationships#"
      ],
      "metadata": {
        "id": "00onXYsEIGQT"
      }
    },
    {
      "cell_type": "markdown",
      "source": [
        "1. A great aspect of the Pandas module is the corr() method.\n",
        "\n",
        "2. The corr() method calculates the relationship between each column in your data set.\n",
        "\n",
        "3. The examples in this page uses a CSV file called: 'data.csv'.\n",
        "\n"
      ],
      "metadata": {
        "id": "bkQ44p7jILZW"
      }
    },
    {
      "cell_type": "code",
      "execution_count": 1,
      "metadata": {
        "colab": {
          "base_uri": "https://localhost:8080/"
        },
        "id": "e-DP05opHRq1",
        "outputId": "e5fa7047-23d1-498e-d27f-5492b9650c7f"
      },
      "outputs": [
        {
          "output_type": "stream",
          "name": "stdout",
          "text": [
            "          Duration     Pulse  Maxpulse  Calories\n",
            "Duration  1.000000 -0.155408  0.009403  0.922717\n",
            "Pulse    -0.155408  1.000000  0.786535  0.025121\n",
            "Maxpulse  0.009403  0.786535  1.000000  0.203813\n",
            "Calories  0.922717  0.025121  0.203813  1.000000\n"
          ]
        }
      ],
      "source": [
        "#Show the relationship between the columns:\n",
        "\n",
        "import pandas as pd\n",
        "\n",
        "df = pd.read_csv('data.csv')\n",
        "\n",
        "print(df.corr())\n"
      ]
    },
    {
      "cell_type": "markdown",
      "source": [
        "***Note: The corr() method ignores \"not numeric\" columns.***"
      ],
      "metadata": {
        "id": "MP9Geso_IcVm"
      }
    },
    {
      "cell_type": "markdown",
      "source": [
        "#Result Explained#"
      ],
      "metadata": {
        "id": "aBNZerD7IhwO"
      }
    },
    {
      "cell_type": "markdown",
      "source": [
        "1. The Result of the corr() method is a table with a lot of numbers that represents how well the relationship is between two columns.\n",
        "\n",
        "2. The number varies from -1 to 1.\n",
        "\n",
        "1 means that there is a 1 to 1 relationship (a perfect correlation), and for this data set, each time a value went up in the first column, the other one went up as well.\n",
        "\n",
        "0.9 is also a good relationship, and if you increase one value, the other will probably increase as well.\n",
        "\n",
        "-0.9 would be just as good relationship as 0.9, but if you increase one value, the other will probably go down.\n",
        "\n",
        "0.2 means NOT a good relationship, meaning that if one value goes up does not mean that the other will.\n",
        "\n"
      ],
      "metadata": {
        "id": "Pf6twd0MIm3v"
      }
    },
    {
      "cell_type": "markdown",
      "source": [
        "***What is a good correlation? It depends on the use, but I think it is safe to say you have to have at least 0.6 (or -0.6) to call it a good correlation.***"
      ],
      "metadata": {
        "id": "BNIehLrvIt7J"
      }
    },
    {
      "cell_type": "markdown",
      "source": [
        "##Perfect Correlation##"
      ],
      "metadata": {
        "id": "thwqo5mLIxM7"
      }
    },
    {
      "cell_type": "markdown",
      "source": [
        "We can see that \"Duration\" and \"Duration\" got the number 1.000000, which makes sense, each column always has a perfect relationship with itself."
      ],
      "metadata": {
        "id": "nHXFkTLXI1iK"
      }
    },
    {
      "cell_type": "markdown",
      "source": [
        "##Good Correlation##"
      ],
      "metadata": {
        "id": "4qC5xlkkI3ql"
      }
    },
    {
      "cell_type": "markdown",
      "source": [
        "\"Duration\" and \"Calories\" got a 0.922721 correlation, which is a very good correlation, and we can predict that the longer you work out, the more calories you burn, and the other way around: if you burned a lot of calories, you probably had a long work out."
      ],
      "metadata": {
        "id": "FiSZqhuhI9F-"
      }
    },
    {
      "cell_type": "markdown",
      "source": [
        "##Bad Correlation##"
      ],
      "metadata": {
        "id": "GYcdMCc5JAI-"
      }
    },
    {
      "cell_type": "markdown",
      "source": [
        "\"Duration\" and \"Maxpulse\" got a 0.009403 correlation, which is a very bad correlation, meaning that we can not predict the max pulse by just looking at the duration of the work out, and vice versa."
      ],
      "metadata": {
        "id": "Pk5m1uP-JFjM"
      }
    }
  ]
}