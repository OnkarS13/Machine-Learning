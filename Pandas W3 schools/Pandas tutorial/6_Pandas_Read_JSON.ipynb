{
  "nbformat": 4,
  "nbformat_minor": 0,
  "metadata": {
    "colab": {
      "name": "Pandas Read JSON.ipynb",
      "provenance": []
    },
    "kernelspec": {
      "name": "python3",
      "display_name": "Python 3"
    },
    "language_info": {
      "name": "python"
    }
  },
  "cells": [
    {
      "cell_type": "markdown",
      "source": [
        "#Read JSON#"
      ],
      "metadata": {
        "id": "7ceOeXaxRxuh"
      }
    },
    {
      "cell_type": "markdown",
      "source": [
        "1. Big data sets are often stored, or extracted as JSON.\n",
        "\n",
        "2. JSON is plain text, but has the format of an object, and is well known in the world of programming, including Pandas.\n",
        "\n",
        "3. In our examples we will be using a JSON file called 'data.json'.\n"
      ],
      "metadata": {
        "id": "a-IobpMhR2Yv"
      }
    },
    {
      "cell_type": "code",
      "execution_count": null,
      "metadata": {
        "id": "FnuRx1njRbiS"
      },
      "outputs": [],
      "source": [
        "#Load the JSON file into a DataFrame:\n",
        "\n",
        "import pandas as pd\n",
        "\n",
        "df = pd.read_json('data.json')\n",
        "\n",
        "print(df.to_string()) "
      ]
    },
    {
      "cell_type": "markdown",
      "source": [
        "***Tip: use to_string() to print the entire DataFrame.***"
      ],
      "metadata": {
        "id": "p3olaM5ZSGJD"
      }
    },
    {
      "cell_type": "markdown",
      "source": [
        "#Dictionary as JSON#"
      ],
      "metadata": {
        "id": "gkkij4h7SOJz"
      }
    },
    {
      "cell_type": "markdown",
      "source": [
        "1. JSON = Python Dictionary\n",
        "\n",
        "2. JSON objects have the same format as Python dictionaries.\n",
        "\n",
        "3. If your JSON code is not in a file, but in a Python Dictionary, you can load it into a DataFrame directly:"
      ],
      "metadata": {
        "id": "JGGoG9rBSR2K"
      }
    },
    {
      "cell_type": "code",
      "source": [
        "#Load a Python Dictionary into a DataFrame:\n",
        "\n",
        "import pandas as pd\n",
        "\n",
        "data = {\n",
        "  \"Duration\":{\n",
        "    \"0\":60,\n",
        "    \"1\":60,\n",
        "    \"2\":60,\n",
        "    \"3\":45,\n",
        "    \"4\":45,\n",
        "    \"5\":60\n",
        "  },\n",
        "  \"Pulse\":{\n",
        "    \"0\":110,\n",
        "    \"1\":117,\n",
        "    \"2\":103,\n",
        "    \"3\":109,\n",
        "    \"4\":117,\n",
        "    \"5\":102\n",
        "  },\n",
        "  \"Maxpulse\":{\n",
        "    \"0\":130,\n",
        "    \"1\":145,\n",
        "    \"2\":135,\n",
        "    \"3\":175,\n",
        "    \"4\":148,\n",
        "    \"5\":127\n",
        "  },\n",
        "  \"Calories\":{\n",
        "    \"0\":409,\n",
        "    \"1\":479,\n",
        "    \"2\":340,\n",
        "    \"3\":282,\n",
        "    \"4\":406,\n",
        "    \"5\":300\n",
        "  }\n",
        "}\n",
        "\n",
        "df = pd.DataFrame(data)\n",
        "\n",
        "print(df) "
      ],
      "metadata": {
        "colab": {
          "base_uri": "https://localhost:8080/"
        },
        "id": "Uc4T0yVMSK4h",
        "outputId": "8a18f92f-5fc1-4d90-eb69-1270625f915d"
      },
      "execution_count": 2,
      "outputs": [
        {
          "output_type": "stream",
          "name": "stdout",
          "text": [
            "   Duration  Pulse  Maxpulse  Calories\n",
            "0        60    110       130       409\n",
            "1        60    117       145       479\n",
            "2        60    103       135       340\n",
            "3        45    109       175       282\n",
            "4        45    117       148       406\n",
            "5        60    102       127       300\n"
          ]
        }
      ]
    }
  ]
}