{
  "nbformat": 4,
  "nbformat_minor": 0,
  "metadata": {
    "colab": {
      "name": "3_Pandas Series and DataFrames.ipynb",
      "provenance": []
    },
    "kernelspec": {
      "name": "python3",
      "display_name": "Python 3"
    },
    "language_info": {
      "name": "python"
    }
  },
  "cells": [
    {
      "cell_type": "markdown",
      "source": [
        "#What ia series?#"
      ],
      "metadata": {
        "id": "ZJDTO-xJkOg_"
      }
    },
    {
      "cell_type": "markdown",
      "source": [
        "1. A Pandas 'Series' is like a single column in a table.\n",
        "\n",
        "2. It is a one-dimensional array holding data of any type.\n",
        "\n"
      ],
      "metadata": {
        "id": "zcGkhxvKkTLS"
      }
    },
    {
      "cell_type": "code",
      "execution_count": 3,
      "metadata": {
        "colab": {
          "base_uri": "https://localhost:8080/"
        },
        "id": "fIXTb6Hph9SP",
        "outputId": "787fbe55-8fdf-42ec-fcdf-fd56a3d634b4"
      },
      "outputs": [
        {
          "output_type": "stream",
          "name": "stdout",
          "text": [
            "0     1\n",
            "1    10\n",
            "2     3\n",
            "dtype: int64\n"
          ]
        }
      ],
      "source": [
        "import pandas as pd\n",
        "\n",
        "a = [1, 10, 3]\n",
        "\n",
        "myvar = pd.Series(a)\n",
        "\n",
        "print(myvar)"
      ]
    },
    {
      "cell_type": "markdown",
      "source": [
        "##Labels##"
      ],
      "metadata": {
        "id": "0qWCnvXOk1Ko"
      }
    },
    {
      "cell_type": "markdown",
      "source": [
        "If nothing else is specified, the values are labeled with their index number. First value has index 0, second value has index 1 etc."
      ],
      "metadata": {
        "id": "pToTp8lmk47a"
      }
    },
    {
      "cell_type": "code",
      "source": [
        "import pandas as pd\n",
        "\n",
        "a = [1, 7, 2]\n",
        "\n",
        "myvar = pd.Series(a)\n",
        "\n",
        "print(myvar[0])\n"
      ],
      "metadata": {
        "colab": {
          "base_uri": "https://localhost:8080/"
        },
        "id": "xREy5L0ikegq",
        "outputId": "065062cc-fe61-4c4a-86a2-7728fce83ccb"
      },
      "execution_count": 4,
      "outputs": [
        {
          "output_type": "stream",
          "name": "stdout",
          "text": [
            "1\n"
          ]
        }
      ]
    },
    {
      "cell_type": "markdown",
      "source": [
        "##Create Labels##"
      ],
      "metadata": {
        "id": "nGhdE57LlEHZ"
      }
    },
    {
      "cell_type": "markdown",
      "source": [
        "With the index argument, you can name your own labels."
      ],
      "metadata": {
        "id": "beYj7R1Ul8X6"
      }
    },
    {
      "cell_type": "code",
      "source": [
        "import pandas as pd\n",
        "\n",
        "a = [1, 7, 2]\n",
        "\n",
        "myvar = pd.Series(a, index = [\"x\", \"y\", \"z\"])\n",
        "\n",
        "print(myvar)"
      ],
      "metadata": {
        "colab": {
          "base_uri": "https://localhost:8080/"
        },
        "id": "L7ilJ1B3lB3w",
        "outputId": "5fdbefea-768f-42e2-f977-3fbae187a3d1"
      },
      "execution_count": 7,
      "outputs": [
        {
          "output_type": "stream",
          "name": "stdout",
          "text": [
            "x    1\n",
            "y    7\n",
            "z    2\n",
            "dtype: int64\n"
          ]
        }
      ]
    },
    {
      "cell_type": "code",
      "source": [
        "import pandas as pd\n",
        "\n",
        "a = [1, 7, 2]\n",
        "\n",
        "myvar = pd.Series(a, index = [\"x\", \"y\", \"z\"])\n",
        "\n",
        "print(myvar[\"y\"])"
      ],
      "metadata": {
        "colab": {
          "base_uri": "https://localhost:8080/"
        },
        "id": "zHN4rMpplaig",
        "outputId": "e36997d3-0f1f-4b5c-d42c-d4453241154b"
      },
      "execution_count": 10,
      "outputs": [
        {
          "output_type": "stream",
          "name": "stdout",
          "text": [
            "7\n"
          ]
        }
      ]
    },
    {
      "cell_type": "markdown",
      "source": [
        "##Key/Value Objects as Series##"
      ],
      "metadata": {
        "id": "--zyiyf4l0Gq"
      }
    },
    {
      "cell_type": "markdown",
      "source": [
        "You can also use a key/value object, like a dictionary, when creating a Series."
      ],
      "metadata": {
        "id": "Uz9E2ceOmAS8"
      }
    },
    {
      "cell_type": "code",
      "source": [
        "import pandas as pd\n",
        "\n",
        "calories = {\"day1\": 420, \"day2\": 380, \"day3\": 390}\n",
        "\n",
        "myvar = pd.Series(calories)\n",
        "\n",
        "print(myvar)"
      ],
      "metadata": {
        "colab": {
          "base_uri": "https://localhost:8080/"
        },
        "id": "2gBFyqETltlR",
        "outputId": "973ed51a-564b-4173-93e6-2373c971df99"
      },
      "execution_count": 11,
      "outputs": [
        {
          "output_type": "stream",
          "name": "stdout",
          "text": [
            "day1    420\n",
            "day2    380\n",
            "day3    390\n",
            "dtype: int64\n"
          ]
        }
      ]
    },
    {
      "cell_type": "markdown",
      "source": [
        "To select only some of the items in the dictionary, use the index argument and specify only the items you want to include in the Series."
      ],
      "metadata": {
        "id": "268H3qMymdca"
      }
    },
    {
      "cell_type": "code",
      "source": [
        "#Create a Series using only data from \"day1\" and \"day2\":\n",
        "\n",
        "import pandas as pd\n",
        "\n",
        "calories = {\"day1\": 420, \"day2\": 380, \"day3\": 390}\n",
        "\n",
        "myvar = pd.Series(calories, index = [\"day1\", \"day2\"])\n",
        "\n",
        "print(myvar)"
      ],
      "metadata": {
        "colab": {
          "base_uri": "https://localhost:8080/"
        },
        "id": "xUhzboJHmGwe",
        "outputId": "49718e3b-e7f3-4072-deb7-95272a00919f"
      },
      "execution_count": 12,
      "outputs": [
        {
          "output_type": "stream",
          "name": "stdout",
          "text": [
            "day1    420\n",
            "day2    380\n",
            "dtype: int64\n"
          ]
        }
      ]
    },
    {
      "cell_type": "markdown",
      "source": [
        "#Data Frames#"
      ],
      "metadata": {
        "id": "AiLxfp1Dms0p"
      }
    },
    {
      "cell_type": "markdown",
      "source": [
        "1. Data sets in Pandas are usually multi-dimensional tables, called DataFrames.\n",
        "\n",
        "2. Series is like a column, a DataFrame is the whole table."
      ],
      "metadata": {
        "id": "zDftJJ_Pmx-U"
      }
    },
    {
      "cell_type": "code",
      "source": [
        "#Create a DataFrame from two Series:\n",
        "\n",
        "import pandas as pd\n",
        "\n",
        "data = {\n",
        "  \"calories\": [420, 380, 390],\n",
        "  \"duration\": [50, 40, 45]\n",
        "}\n",
        "\n",
        "myvar = pd.DataFrame(data)\n",
        "\n",
        "print(myvar)"
      ],
      "metadata": {
        "colab": {
          "base_uri": "https://localhost:8080/"
        },
        "id": "5SBHSkrxmiYr",
        "outputId": "7d6b56ac-a0bf-4570-85d5-ef1b19cfd6b4"
      },
      "execution_count": 15,
      "outputs": [
        {
          "output_type": "stream",
          "name": "stdout",
          "text": [
            "   calories  duration\n",
            "0       420        50\n",
            "1       380        40\n",
            "2       390        45\n"
          ]
        }
      ]
    },
    {
      "cell_type": "markdown",
      "source": [
        "##Doing same thing for above data but with Series##"
      ],
      "metadata": {
        "id": "O50UNmmNnPmc"
      }
    },
    {
      "cell_type": "markdown",
      "source": [
        "You can see the differance, the data is prited in just a single dimension"
      ],
      "metadata": {
        "id": "kwjp7mJfnYg9"
      }
    },
    {
      "cell_type": "code",
      "source": [
        "#Create a DataFrame from two Series:\n",
        "\n",
        "import pandas as pd\n",
        "\n",
        "data = {\n",
        "  \"calories\": [420, 380, 390],\n",
        "  \"duration\": [50, 40, 45]\n",
        "}\n",
        "\n",
        "myvar = pd.Series(data)\n",
        "\n",
        "print(myvar)"
      ],
      "metadata": {
        "colab": {
          "base_uri": "https://localhost:8080/"
        },
        "id": "qYnaPmZ8nGBO",
        "outputId": "c5492cd3-e1bb-47f1-d54e-66f842902507"
      },
      "execution_count": 16,
      "outputs": [
        {
          "output_type": "stream",
          "name": "stdout",
          "text": [
            "calories    [420, 380, 390]\n",
            "duration       [50, 40, 45]\n",
            "dtype: object\n"
          ]
        }
      ]
    },
    {
      "cell_type": "code",
      "source": [],
      "metadata": {
        "id": "BomY_vn6nXwE"
      },
      "execution_count": null,
      "outputs": []
    }
  ]
}