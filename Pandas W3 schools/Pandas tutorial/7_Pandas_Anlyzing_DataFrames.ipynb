{
  "nbformat": 4,
  "nbformat_minor": 0,
  "metadata": {
    "colab": {
      "name": "7_Pandas - Anlyzing DataFrames.ipynb",
      "provenance": []
    },
    "kernelspec": {
      "name": "python3",
      "display_name": "Python 3"
    },
    "language_info": {
      "name": "python"
    }
  },
  "cells": [
    {
      "cell_type": "markdown",
      "source": [
        "#Viewing the Data#"
      ],
      "metadata": {
        "id": "KELhFG_BUBcr"
      }
    },
    {
      "cell_type": "markdown",
      "source": [
        "1. One of the most used method for getting a quick overview of the DataFrame, is the head() method.\n",
        "\n",
        "2. The head() method returns the headers and a specified number of rows, starting from the top."
      ],
      "metadata": {
        "id": "EQFkafUMUFfA"
      }
    },
    {
      "cell_type": "code",
      "execution_count": null,
      "metadata": {
        "colab": {
          "base_uri": "https://localhost:8080/"
        },
        "id": "48pxYqkmS968",
        "outputId": "6f57ee33-0c61-45f4-8056-0b136e07db74"
      },
      "outputs": [
        {
          "output_type": "stream",
          "name": "stdout",
          "text": [
            "   Duration  Pulse  Maxpulse  Calories\n",
            "0        60    110       130     409.1\n",
            "1        60    117       145     479.0\n",
            "2        60    103       135     340.0\n",
            "3        45    109       175     282.4\n",
            "4        45    117       148     406.0\n",
            "5        60    102       127     300.0\n",
            "6        60    110       136     374.0\n",
            "7        45    104       134     253.3\n",
            "8        30    109       133     195.1\n",
            "9        60     98       124     269.0\n"
          ]
        }
      ],
      "source": [
        "#Get a quick overview by printing the first 10 rows of the DataFrame:\n",
        "\n",
        "import pandas as pd\n",
        "\n",
        "df = pd.read_csv('data.csv')\n",
        "\n",
        "print(df.head(10))"
      ]
    },
    {
      "cell_type": "markdown",
      "source": [
        "Note: if the number of rows is not specified, the head() method will return the top 5 rows."
      ],
      "metadata": {
        "id": "LPZOIJk_0B29"
      }
    },
    {
      "cell_type": "code",
      "source": [
        "#Print the first 5 rows of the DataFrame:\n",
        "\n",
        "import pandas as pd\n",
        "\n",
        "df = pd.read_csv('data.csv')\n",
        "\n",
        "print(df.head())"
      ],
      "metadata": {
        "colab": {
          "base_uri": "https://localhost:8080/"
        },
        "id": "qb8QLzw0UKEW",
        "outputId": "cedba006-aa59-428e-d4c0-559da3aabc79"
      },
      "execution_count": 1,
      "outputs": [
        {
          "output_type": "stream",
          "name": "stdout",
          "text": [
            "   Duration  Pulse  Maxpulse  Calories\n",
            "0        60    110       130     409.1\n",
            "1        60    117       145     479.0\n",
            "2        60    103       135     340.0\n",
            "3        45    109       175     282.4\n",
            "4        45    117       148     406.0\n"
          ]
        }
      ]
    },
    {
      "cell_type": "markdown",
      "source": [
        "1. There is also a tail() method for viewing the last rows of the DataFrame.\n",
        "\n",
        "2. The tail() method returns the headers and a specified number of rows, starting from the bottom.\n",
        "\n"
      ],
      "metadata": {
        "id": "06hLjraI0pmb"
      }
    },
    {
      "cell_type": "code",
      "source": [
        "print(df.tail()) "
      ],
      "metadata": {
        "id": "poZ7umB20E_J",
        "colab": {
          "base_uri": "https://localhost:8080/"
        },
        "outputId": "6f8cd8b0-d8bb-4197-88e8-d63417e38f0c"
      },
      "execution_count": 2,
      "outputs": [
        {
          "output_type": "stream",
          "name": "stdout",
          "text": [
            "     Duration  Pulse  Maxpulse  Calories\n",
            "164        60    105       140     290.8\n",
            "165        60    110       145     300.0\n",
            "166        60    115       145     310.2\n",
            "167        75    120       150     320.4\n",
            "168        75    125       150     330.4\n"
          ]
        }
      ]
    },
    {
      "cell_type": "markdown",
      "source": [
        "#Info About the Data#"
      ],
      "metadata": {
        "id": "bfHVaMO30xf_"
      }
    },
    {
      "cell_type": "markdown",
      "source": [
        "The DataFrames object has a method called info(), that gives you more information about the data set."
      ],
      "metadata": {
        "id": "zNOyNs7T02w-"
      }
    },
    {
      "cell_type": "code",
      "source": [
        "print(df.info())"
      ],
      "metadata": {
        "colab": {
          "base_uri": "https://localhost:8080/"
        },
        "id": "gMx4NWER0wP_",
        "outputId": "32186ea6-b804-4c7e-acdd-d102e378e5a3"
      },
      "execution_count": 3,
      "outputs": [
        {
          "output_type": "stream",
          "name": "stdout",
          "text": [
            "<class 'pandas.core.frame.DataFrame'>\n",
            "RangeIndex: 169 entries, 0 to 168\n",
            "Data columns (total 4 columns):\n",
            " #   Column    Non-Null Count  Dtype  \n",
            "---  ------    --------------  -----  \n",
            " 0   Duration  169 non-null    int64  \n",
            " 1   Pulse     169 non-null    int64  \n",
            " 2   Maxpulse  169 non-null    int64  \n",
            " 3   Calories  164 non-null    float64\n",
            "dtypes: float64(1), int64(3)\n",
            "memory usage: 5.4 KB\n",
            "None\n"
          ]
        }
      ]
    },
    {
      "cell_type": "markdown",
      "source": [
        "#Null Values#"
      ],
      "metadata": {
        "id": "NSk17sn609dH"
      }
    },
    {
      "cell_type": "markdown",
      "source": [
        "1. The info() method also tells us how many Non-Null values there are present in each column, and in our data set it seems like there are 164 of 169 Non-Null values in the \"Calories\" column.\n",
        "\n",
        "2. Which means that there are 5 rows with no value at all, in the \"Calories\" column, for whatever reason.\n",
        "\n",
        "3. Empty values, or Null values, can be bad when analyzing data, and you should consider removing rows with empty values. This is a step towards what is called cleaning data, and you will learn more about that in the next chapters.\n",
        "\n"
      ],
      "metadata": {
        "id": "qMUF6HUa1BN9"
      }
    },
    {
      "cell_type": "code",
      "source": [],
      "metadata": {
        "id": "joF1p3jf05zs"
      },
      "execution_count": null,
      "outputs": []
    }
  ]
}