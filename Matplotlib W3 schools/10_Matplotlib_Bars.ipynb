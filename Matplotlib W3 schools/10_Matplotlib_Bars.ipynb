{
  "nbformat": 4,
  "nbformat_minor": 0,
  "metadata": {
    "colab": {
      "name": "10_Matplotlib Bars.ipynb",
      "provenance": []
    },
    "kernelspec": {
      "name": "python3",
      "display_name": "Python 3"
    },
    "language_info": {
      "name": "python"
    }
  },
  "cells": [
    {
      "cell_type": "markdown",
      "source": [
        "#Creating Bars#"
      ],
      "metadata": {
        "id": "WGZ2HZP82kxe"
      }
    },
    {
      "cell_type": "markdown",
      "source": [
        "With Pyplot, you can use the bar() function to draw bar graphs:"
      ],
      "metadata": {
        "id": "FyEXEq-z22fX"
      }
    },
    {
      "cell_type": "code",
      "execution_count": 1,
      "metadata": {
        "colab": {
          "base_uri": "https://localhost:8080/",
          "height": 265
        },
        "id": "659BOY8e2ZWf",
        "outputId": "cbd89511-7647-4208-aba5-2e50b456c902"
      },
      "outputs": [
        {
          "output_type": "display_data",
          "data": {
            "text/plain": [
              "<Figure size 432x288 with 1 Axes>"
            ],
            "image/png": "[encoded data removed]"
          },
          "metadata": {
            "needs_background": "light"
          }
        }
      ],
      "source": [
        "# Draw 4 bars:\n",
        "\n",
        "import matplotlib.pyplot as plt\n",
        "import numpy as np\n",
        "\n",
        "x = np.array([\"A\", \"B\", \"C\", \"D\"])\n",
        "y = np.array([3, 8, 1, 10])\n",
        "\n",
        "plt.bar(x,y)\n",
        "plt.show()"
      ]
    },
    {
      "cell_type": "markdown",
      "source": [
        "The bar() function takes arguments that describes the layout of the bars.\n",
        "\n",
        "The categories and their values represented by the first and second argument as arrays."
      ],
      "metadata": {
        "id": "8W1rqr3t29CC"
      }
    },
    {
      "cell_type": "code",
      "source": [
        "x = [\"APPLES\", \"BANANAS\"]\n",
        "y = [400, 350]\n",
        "plt.bar(x, y)"
      ],
      "metadata": {
        "colab": {
          "base_uri": "https://localhost:8080/",
          "height": 283
        },
        "id": "KygGKmjB25YJ",
        "outputId": "61394816-ddb1-49aa-ef23-56de1d0f67a4"
      },
      "execution_count": 2,
      "outputs": [
        {
          "output_type": "execute_result",
          "data": {
            "text/plain": [
              "<BarContainer object of 2 artists>"
            ]
          },
          "metadata": {},
          "execution_count": 2
        },
        {
          "output_type": "display_data",
          "data": {
            "text/plain": [
              "<Figure size 432x288 with 1 Axes>"
            ],
            "image/png": "[encoded data removed]"
          },
          "metadata": {
            "needs_background": "light"
          }
        }
      ]
    },
    {
      "cell_type": "markdown",
      "source": [
        "#Horizontal Bars#"
      ],
      "metadata": {
        "id": "-CQwUKls3CGW"
      }
    },
    {
      "cell_type": "markdown",
      "source": [
        "If you want the bars to be displayed horizontally instead of vertically, use the barh() function:\n",
        "\n"
      ],
      "metadata": {
        "id": "aWwyWWpe3GqQ"
      }
    },
    {
      "cell_type": "code",
      "source": [
        "# Draw 4 horizontal bars:\n",
        "\n",
        "\n",
        "x = np.array([\"A\", \"B\", \"C\", \"D\"])\n",
        "y = np.array([3, 8, 1, 10])\n",
        "\n",
        "plt.barh(x, y)\n",
        "plt.show()"
      ],
      "metadata": {
        "colab": {
          "base_uri": "https://localhost:8080/",
          "height": 265
        },
        "id": "zI81NpvA3Anu",
        "outputId": "b5c3e90c-875b-4df6-93f0-8ca398c7e9c6"
      },
      "execution_count": 3,
      "outputs": [
        {
          "output_type": "display_data",
          "data": {
            "text/plain": [
              "<Figure size 432x288 with 1 Axes>"
            ],
            "image/png": "[encoded data removed]"
          },
          "metadata": {
            "needs_background": "light"
          }
        }
      ]
    },
    {
      "cell_type": "markdown",
      "source": [
        "#Bar Color#"
      ],
      "metadata": {
        "id": "0uMw5dPJ3O99"
      }
    },
    {
      "cell_type": "markdown",
      "source": [
        "The bar() and barh() takes the keyword argument color to set the color of the bars:"
      ],
      "metadata": {
        "id": "WlKGkzE_3SqW"
      }
    },
    {
      "cell_type": "code",
      "source": [
        "# Draw 4 red bars:\n",
        "\n",
        "x = np.array([\"A\", \"B\", \"C\", \"D\"])\n",
        "y = np.array([3, 8, 1, 10])\n",
        "\n",
        "plt.bar(x, y, color = \"red\")\n",
        "plt.show()"
      ],
      "metadata": {
        "colab": {
          "base_uri": "https://localhost:8080/",
          "height": 265
        },
        "id": "bJgDGcex3KWP",
        "outputId": "eec0480b-7c57-4c93-f8dc-d6c60a5a2e37"
      },
      "execution_count": 4,
      "outputs": [
        {
          "output_type": "display_data",
          "data": {
            "text/plain": [
              "<Figure size 432x288 with 1 Axes>"
            ],
            "image/png": "[encoded data removed]"
          },
          "metadata": {
            "needs_background": "light"
          }
        }
      ]
    },
    {
      "cell_type": "markdown",
      "source": [
        "#Color Names#"
      ],
      "metadata": {
        "id": "tHfxAt183blj"
      }
    },
    {
      "cell_type": "code",
      "source": [
        "# Draw 4 \"hot pink\" bars:\n",
        "\n",
        "\n",
        "x = np.array([\"A\", \"B\", \"C\", \"D\"])\n",
        "y = np.array([3, 8, 1, 10])\n",
        "\n",
        "plt.bar(x, y, color = \"hotpink\")\n",
        "plt.show()"
      ],
      "metadata": {
        "colab": {
          "base_uri": "https://localhost:8080/",
          "height": 265
        },
        "id": "QXMzVI943ahP",
        "outputId": "a8f57369-72de-4630-8487-e53cb393d9cf"
      },
      "execution_count": 5,
      "outputs": [
        {
          "output_type": "display_data",
          "data": {
            "text/plain": [
              "<Figure size 432x288 with 1 Axes>"
            ],
            "image/png": "[encoded data removed]"
          },
          "metadata": {
            "needs_background": "light"
          }
        }
      ]
    },
    {
      "cell_type": "markdown",
      "source": [
        "#Colr Hex#"
      ],
      "metadata": {
        "id": "XyhNGqrH3jG9"
      }
    },
    {
      "cell_type": "markdown",
      "source": [
        "Or you can use Hexadecimal color values:\n",
        "[https://www.w3schools.com/colors/colors_hexadecimal.asp](https://)"
      ],
      "metadata": {
        "id": "U6pRRCmH3nYT"
      }
    },
    {
      "cell_type": "code",
      "source": [
        "# Draw 4 bars with a beautiful green color:\n",
        "\n",
        "x = np.array([\"A\", \"B\", \"C\", \"D\"])\n",
        "y = np.array([3, 8, 1, 10])\n",
        "\n",
        "plt.bar(x, y, color = \"#4CAF50\")\n",
        "plt.show()"
      ],
      "metadata": {
        "colab": {
          "base_uri": "https://localhost:8080/",
          "height": 265
        },
        "id": "W2VMukkh3hm_",
        "outputId": "85edf35f-3e03-4f8c-c6d9-4507ab0594e4"
      },
      "execution_count": 6,
      "outputs": [
        {
          "output_type": "display_data",
          "data": {
            "text/plain": [
              "<Figure size 432x288 with 1 Axes>"
            ],
            "image/png": "[encoded data removed]"
          },
          "metadata": {
            "needs_background": "light"
          }
        }
      ]
    },
    {
      "cell_type": "markdown",
      "source": [
        "#Bar Width#"
      ],
      "metadata": {
        "id": "LGHN7KzZ3vcw"
      }
    },
    {
      "cell_type": "markdown",
      "source": [
        "The bar() takes the keyword argument width to set the width of the bars:"
      ],
      "metadata": {
        "id": "39e4EM963vX2"
      }
    },
    {
      "cell_type": "code",
      "source": [
        "# Draw 4 very thin bars:\n",
        "\n",
        "x = np.array([\"A\", \"B\", \"C\", \"D\"])\n",
        "y = np.array([3, 8, 1, 10])\n",
        "\n",
        "plt.bar(x, y, width = 0.1)\n",
        "plt.show()"
      ],
      "metadata": {
        "colab": {
          "base_uri": "https://localhost:8080/",
          "height": 265
        },
        "id": "Ci81w3yH3unh",
        "outputId": "b778c454-3d9f-4842-bd79-69853f7f8c8e"
      },
      "execution_count": 7,
      "outputs": [
        {
          "output_type": "display_data",
          "data": {
            "text/plain": [
              "<Figure size 432x288 with 1 Axes>"
            ],
            "image/png": "[encoded data removed]"
          },
          "metadata": {
            "needs_background": "light"
          }
        }
      ]
    },
    {
      "cell_type": "markdown",
      "source": [
        "*Note: For horizontal bars, use height instead of width.*"
      ],
      "metadata": {
        "id": "-mXPTxcp34zv"
      }
    },
    {
      "cell_type": "code",
      "source": [
        "# Draw 4 very thin bars:\n",
        "\n",
        "\n",
        "x = np.array([\"A\", \"B\", \"C\", \"D\"])\n",
        "y = np.array([3, 8, 1, 10])\n",
        "\n",
        "plt.barh(x, y, height = 0.1)\n",
        "plt.show()"
      ],
      "metadata": {
        "colab": {
          "base_uri": "https://localhost:8080/",
          "height": 265
        },
        "id": "-5T64LVO32Lv",
        "outputId": "c48c8371-fd0f-4957-bb7d-a7f6d71b2f54"
      },
      "execution_count": 8,
      "outputs": [
        {
          "output_type": "display_data",
          "data": {
            "text/plain": [
              "<Figure size 432x288 with 1 Axes>"
            ],
            "image/png": "[encoded data removed]"
          },
          "metadata": {
            "needs_background": "light"
          }
        }
      ]
    },
    {
      "cell_type": "code",
      "source": [],
      "metadata": {
        "id": "cck4-9tH3_Fw"
      },
      "execution_count": null,
      "outputs": []
    }
  ]
}