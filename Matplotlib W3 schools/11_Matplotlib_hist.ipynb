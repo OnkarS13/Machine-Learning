{
  "nbformat": 4,
  "nbformat_minor": 0,
  "metadata": {
    "colab": {
      "name": "11_Matplotlib hist.ipynb",
      "provenance": []
    },
    "kernelspec": {
      "name": "python3",
      "display_name": "Python 3"
    },
    "language_info": {
      "name": "python"
    }
  },
  "cells": [
    {
      "cell_type": "markdown",
      "source": [
        "#Histograms# "
      ],
      "metadata": {
        "id": "9pUlxYQa5Fck"
      }
    },
    {
      "cell_type": "markdown",
      "source": [
        "A histogram is a graph showing frequency distributions.\n",
        "\n",
        "It is a graph showing the number of observations within each given interval.\n",
        "\n",
        "Example: Say you ask for the height of 250 people, you might end up with a histogram like this:\n",
        "\n"
      ],
      "metadata": {
        "id": "JOEuiKeG5XPv"
      }
    },
    {
      "cell_type": "markdown",
      "source": [
        "#Create Histogram#"
      ],
      "metadata": {
        "id": "Zei85hzL5bRt"
      }
    },
    {
      "cell_type": "markdown",
      "source": [
        "1. In Matplotlib, we use the hist() function to create histograms.\n",
        "\n",
        "2. The hist() function will use an array of numbers to create a histogram, the array is sent into the function as an argument.\n",
        "\n",
        "3. For simplicity we use NumPy to randomly generate an array with 250 values, where the values will concentrate around 170, and the standard deviation is 10. Learn more about Normal Data Distribution in our Machine Learning Tutorial.\n",
        "\n"
      ],
      "metadata": {
        "id": "E-W5FnJ05qXb"
      }
    },
    {
      "cell_type": "code",
      "execution_count": 1,
      "metadata": {
        "colab": {
          "base_uri": "https://localhost:8080/"
        },
        "id": "Anl9qoAW4HkJ",
        "outputId": "8792eba4-b44e-4872-88e6-8890ff8ae0f7"
      },
      "outputs": [
        {
          "output_type": "stream",
          "name": "stdout",
          "text": [
            "[167.14923251 164.28577592 186.30655912 169.28003636 167.14850697\n",
            " 167.84638933 160.35966428 170.10024864 175.38321792 176.94278166\n",
            " 160.11161076 181.67581606 160.43215768 170.05225309 177.91108402\n",
            " 169.06183344 173.88016201 180.94777368 164.17699724 177.39486392\n",
            " 163.51655208 181.22411476 171.03436384 179.67686846 189.42339752\n",
            " 174.37222769 183.48250625 152.96345237 171.50458144 190.69122573\n",
            " 169.40466114 180.66529646 167.61057525 160.03670241 151.8869169\n",
            " 160.50593922 170.18282437 178.03918288 166.86572641 180.42966626\n",
            " 163.81715376 162.93497542 174.09326137 154.45321916 155.8092355\n",
            " 176.55774188 171.40009436 164.57746324 171.98728015 179.21241047\n",
            " 168.34291987 162.38296031 165.1988909  158.60566714 188.00236538\n",
            " 177.69866168 164.78072131 183.30154893 141.83847136 164.21882339\n",
            " 169.92239474 160.88772733 176.16948257 166.74166475 154.22328047\n",
            " 156.47367337 176.24942876 190.93024562 184.45300985 154.58786205\n",
            " 170.26699447 157.15152369 179.64912772 177.85238339 166.18337284\n",
            " 165.99724655 166.26911155 182.79662204 171.30525754 160.63131093\n",
            " 178.12708363 162.2827964  150.21498566 188.70292609 164.5835872\n",
            " 168.72406496 181.41024994 176.93451013 174.02694443 164.72386164\n",
            " 163.63558346 161.08119545 168.02650121 167.50356681 183.5402495\n",
            " 179.56373421 185.32068544 165.18665237 180.56133445 171.17033305\n",
            " 155.60385195 159.33204841 165.085257   170.1028535  154.71184736\n",
            " 173.98595844 172.67829254 175.51300961 162.00190254 159.30630427\n",
            " 165.83699087 161.71991335 182.0379009  169.3385818  166.54952344\n",
            " 159.72326974 159.99664656 149.23060809 164.75157271 170.79658989\n",
            " 178.68713628 168.03552815 172.60603452 179.3714748  160.53523554\n",
            " 184.59406272 176.88564927 192.27789947 173.62300548 168.6282138\n",
            " 186.61698586 161.6638696  168.19076833 184.62995702 157.30960878\n",
            " 148.76533651 184.8973503  176.22153761 173.89205393 179.69327467\n",
            " 173.80171401 178.26701261 169.54615121 185.93672076 188.1335102\n",
            " 182.61254286 177.71449286 168.38465705 176.58524252 175.07303557\n",
            " 168.14351224 159.29852765 169.98768951 178.18632376 164.63616814\n",
            " 164.31337466 173.27217618 161.16343055 163.15039234 172.62730907\n",
            " 172.59437895 171.77102772 180.07941118 180.00342616 175.34110308\n",
            " 176.27213734 170.25032994 164.38156269 180.18637535 158.46190257\n",
            " 172.70050952 175.91321928 173.42525102 186.95114366 168.57821743\n",
            " 169.75901205 181.17138609 180.14721106 154.9589554  168.82009462\n",
            " 169.964299   181.12459131 162.72687266 153.09353634 170.97272861\n",
            " 154.16635732 186.24670974 178.40987905 193.19942737 164.07373731\n",
            " 170.52335159 171.04359228 171.72505933 159.87221966 164.8901125\n",
            " 167.23798912 176.58475601 177.57995046 185.57235912 167.87872682\n",
            " 182.47770254 186.24683427 162.35800349 163.8019226  172.49874149\n",
            " 167.20989463 187.57904965 159.03210798 192.65092518 174.28448704\n",
            " 150.90919363 181.64395208 183.24117717 156.89183802 172.80866233\n",
            " 167.4259002  174.27069446 154.73658363 179.73499625 171.42112382\n",
            " 179.61938556 186.85076001 184.12673591 147.0644822  172.39551743\n",
            " 174.29715433 187.80137055 174.01094474 162.07420342 179.9150693\n",
            " 167.36860231 163.18647977 158.89285895 171.054851   167.79036138\n",
            " 175.07313081 169.37516483 160.5173367  169.74113194 172.11348559\n",
            " 173.77162053 173.78429991 171.41690921 178.93167357 173.66021296\n",
            " 166.00910923 178.86483931 162.69617907 161.64285688 155.62009411]\n"
          ]
        }
      ],
      "source": [
        "# A Normal Data Distribution by NumPy:\n",
        "\n",
        "import numpy as np\n",
        "\n",
        "x = np.random.normal(170, 10, 250)\n",
        "\n",
        "print(x)"
      ]
    },
    {
      "cell_type": "markdown",
      "source": [
        "The hist() function will read the array and produce a histogram:"
      ],
      "metadata": {
        "id": "YPN6wuQu55Un"
      }
    },
    {
      "cell_type": "code",
      "source": [
        "# A simple histogram:\n",
        "\n",
        "import matplotlib.pyplot as plt\n",
        "import numpy as np\n",
        "\n",
        "x = np.random.normal(170, 10, 250)\n",
        "\n",
        "plt.hist(x)\n",
        "plt.show() "
      ],
      "metadata": {
        "colab": {
          "base_uri": "https://localhost:8080/",
          "height": 265
        },
        "id": "haNUJtLu52wb",
        "outputId": "1e8b0be2-d768-4b61-8870-3ff34bacdf93"
      },
      "execution_count": 2,
      "outputs": [
        {
          "output_type": "display_data",
          "data": {
            "text/plain": [
              "<Figure size 432x288 with 1 Axes>"
            ],
            "image/png": "[encoded data removed]"
          },
          "metadata": {
            "needs_background": "light"
          }
        }
      ]
    }
  ]
}