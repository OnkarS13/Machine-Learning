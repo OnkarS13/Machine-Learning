{
  "nbformat": 4,
  "nbformat_minor": 0,
  "metadata": {
    "colab": {
      "name": "Matplotlib Theory.ipynb",
      "provenance": []
    },
    "kernelspec": {
      "name": "python3",
      "display_name": "Python 3"
    },
    "language_info": {
      "name": "python"
    }
  },
  "cells": [
    {
      "cell_type": "markdown",
      "source": [
        "\n",
        "#Matplotlib tutorial#"
      ],
      "metadata": {
        "id": "Lwwhyr0qnV9N"
      }
    },
    {
      "cell_type": "markdown",
      "source": [
        "***What is Matplotlib?***\n",
        "\n",
        "1. Matplotlib is a low level graph plotting library in python that serves as a visualization utility.\n",
        "\n",
        "2. Matplotlib was created by John D. Hunter.\n",
        "\n",
        "3. Matplotlib is open source and we can use it freely.\n",
        "\n",
        "4. Matplotlib is mostly written in python, a few segments are written in C, Objective-C and Javascript for Platform compatibility.\n",
        "\n"
      ],
      "metadata": {
        "id": "zfQd5s5nnk2y"
      }
    },
    {
      "cell_type": "code",
      "execution_count": null,
      "metadata": {
        "id": "9vvYzsGfnCCs"
      },
      "outputs": [],
      "source": []
    }
  ]
}